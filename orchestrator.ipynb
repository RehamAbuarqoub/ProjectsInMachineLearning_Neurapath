{
 "cells": [
  {
   "cell_type": "code",
   "execution_count": 2,
   "id": "485ff5ca",
   "metadata": {},
   "outputs": [
    {
     "name": "stdout",
     "output_type": "stream",
     "text": [
      "Columns in merged file: ['job_link', 'last_processed_time', 'last_status', 'got_summary', 'got_ner', 'is_being_worked', 'job_title', 'company', 'job_location', 'first_seen', 'search_city', 'search_country', 'search_position', 'job_level', 'job_type', 'job_skills', 'job_summary']\n",
      "Rows: 12217\n"
     ]
    }
   ],
   "source": [
    "import pandas as pd\n",
    "import os\n",
    "\n",
    "\n",
    "# Load the datasets\n",
    "postings = pd.read_csv('data/job_postings.csv')\n",
    "skills = pd.read_csv('data/job_skills.csv')\n",
    "summary = pd.read_csv('data/job_summary.csv')\n",
    "\n",
    "# Clean up column names (remove spaces, lower case, etc.)\n",
    "for df in [postings, skills, summary]:\n",
    "    df.columns = df.columns.str.strip().str.lower()\n",
    "\n",
    "# Merge on 'job_link'\n",
    "merged = postings.merge(skills, on='job_link', how='outer')\n",
    "merged = merged.merge(summary, on='job_link', how='outer')\n",
    "\n",
    "# Save the merged dataset\n",
    "os.makedirs('data', exist_ok=True)\n",
    "merged.to_csv('data/job_skill_data.csv', index=False)\n",
    "\n",
    "print(\"Columns in merged file:\", merged.columns.tolist())\n",
    "print(\"Rows:\", merged.shape[0])\n"
   ]
  }
 ],
 "metadata": {
  "kernelspec": {
   "display_name": "Python 3",
   "language": "python",
   "name": "python3"
  },
  "language_info": {
   "codemirror_mode": {
    "name": "ipython",
    "version": 3
   },
   "file_extension": ".py",
   "mimetype": "text/x-python",
   "name": "python",
   "nbconvert_exporter": "python",
   "pygments_lexer": "ipython3",
   "version": "3.13.4"
  }
 },
 "nbformat": 4,
 "nbformat_minor": 5
}
